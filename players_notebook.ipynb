{
 "cells": [
  {
   "cell_type": "code",
   "execution_count": 1,
   "id": "a51fa181-f113-4819-bcf1-bd2441b19409",
   "metadata": {},
   "outputs": [],
   "source": [
    "import mysql.connector"
   ]
  },
  {
   "cell_type": "code",
   "execution_count": 2,
   "id": "2525a266-f09b-4c85-bcde-33d08716f4a8",
   "metadata": {},
   "outputs": [],
   "source": [
    "import pandas as pd"
   ]
  },
  {
   "cell_type": "code",
   "execution_count": 3,
   "id": "043a01aa-a8d1-438b-9eb6-78a2b5f7f94f",
   "metadata": {},
   "outputs": [],
   "source": [
    "database_config = {\n",
    "    'user': 'tournament_user',\n",
    "    'password': 'tournament_pass',\n",
    "    'host': 'localhost',\n",
    "    'database': 'football'\n",
    "}"
   ]
  },
  {
   "cell_type": "code",
   "execution_count": 5,
   "id": "8cd7bfe0-99e3-4ab9-a246-f1338418e251",
   "metadata": {},
   "outputs": [],
   "source": [
    "select_players = \"SELECT * FROM players;\""
   ]
  },
  {
   "cell_type": "code",
   "execution_count": 6,
   "id": "6af71d79-95d7-4f2c-8f1f-145477ec0997",
   "metadata": {},
   "outputs": [],
   "source": [
    "conn = mysql.connector.connect(**database_config)\n",
    "cursor = conn.cursor()"
   ]
  },
  {
   "cell_type": "code",
   "execution_count": 7,
   "id": "44d96606-98d2-467d-848a-b52452fbdef7",
   "metadata": {},
   "outputs": [],
   "source": [
    "cursor.execute(select_players)\n",
    "players = cursor.fetchall()"
   ]
  },
  {
   "cell_type": "code",
   "execution_count": 9,
   "id": "20803bee-9be7-413f-8285-993a361341dc",
   "metadata": {},
   "outputs": [],
   "source": [
    "columns = ['player_id','name','country','birth year','position','height','weight','foot','retired']"
   ]
  },
  {
   "cell_type": "code",
   "execution_count": 10,
   "id": "ae052118-8c59-43af-a24a-d1bc77c458af",
   "metadata": {},
   "outputs": [],
   "source": [
    "df = pd.DataFrame(players,columns=columns)"
   ]
  },
  {
   "cell_type": "code",
   "execution_count": 11,
   "id": "232e0602-4e55-418c-b463-84863c60fb25",
   "metadata": {},
   "outputs": [
    {
     "data": {
      "text/html": [
       "<div>\n",
       "<style scoped>\n",
       "    .dataframe tbody tr th:only-of-type {\n",
       "        vertical-align: middle;\n",
       "    }\n",
       "\n",
       "    .dataframe tbody tr th {\n",
       "        vertical-align: top;\n",
       "    }\n",
       "\n",
       "    .dataframe thead th {\n",
       "        text-align: right;\n",
       "    }\n",
       "</style>\n",
       "<table border=\"1\" class=\"dataframe\">\n",
       "  <thead>\n",
       "    <tr style=\"text-align: right;\">\n",
       "      <th></th>\n",
       "      <th>player_id</th>\n",
       "      <th>name</th>\n",
       "      <th>country</th>\n",
       "      <th>birth year</th>\n",
       "      <th>position</th>\n",
       "      <th>height</th>\n",
       "      <th>weight</th>\n",
       "      <th>foot</th>\n",
       "      <th>retired</th>\n",
       "    </tr>\n",
       "  </thead>\n",
       "  <tbody>\n",
       "    <tr>\n",
       "      <th>0</th>\n",
       "      <td>1</td>\n",
       "      <td>Juca Dias</td>\n",
       "      <td>Brazil</td>\n",
       "      <td>1990</td>\n",
       "      <td>GK</td>\n",
       "      <td>1.93</td>\n",
       "      <td>74.88</td>\n",
       "      <td>Left</td>\n",
       "      <td>None</td>\n",
       "    </tr>\n",
       "    <tr>\n",
       "      <th>1</th>\n",
       "      <td>2</td>\n",
       "      <td>Leonardo Grilo</td>\n",
       "      <td>Brazil</td>\n",
       "      <td>1990</td>\n",
       "      <td>RB</td>\n",
       "      <td>1.92</td>\n",
       "      <td>82.43</td>\n",
       "      <td>Left</td>\n",
       "      <td>None</td>\n",
       "    </tr>\n",
       "    <tr>\n",
       "      <th>2</th>\n",
       "      <td>3</td>\n",
       "      <td>Nataniel Rios</td>\n",
       "      <td>Brazil</td>\n",
       "      <td>2004</td>\n",
       "      <td>GK</td>\n",
       "      <td>1.96</td>\n",
       "      <td>76.38</td>\n",
       "      <td>Right</td>\n",
       "      <td>None</td>\n",
       "    </tr>\n",
       "    <tr>\n",
       "      <th>3</th>\n",
       "      <td>4</td>\n",
       "      <td>Darley Bartolo</td>\n",
       "      <td>Brazil</td>\n",
       "      <td>1991</td>\n",
       "      <td>SS</td>\n",
       "      <td>1.83</td>\n",
       "      <td>80.29</td>\n",
       "      <td>Right</td>\n",
       "      <td>None</td>\n",
       "    </tr>\n",
       "    <tr>\n",
       "      <th>4</th>\n",
       "      <td>5</td>\n",
       "      <td>Lorenzo Grilo</td>\n",
       "      <td>Brazil</td>\n",
       "      <td>1991</td>\n",
       "      <td>WG</td>\n",
       "      <td>1.90</td>\n",
       "      <td>79.77</td>\n",
       "      <td>Right</td>\n",
       "      <td>None</td>\n",
       "    </tr>\n",
       "    <tr>\n",
       "      <th>...</th>\n",
       "      <td>...</td>\n",
       "      <td>...</td>\n",
       "      <td>...</td>\n",
       "      <td>...</td>\n",
       "      <td>...</td>\n",
       "      <td>...</td>\n",
       "      <td>...</td>\n",
       "      <td>...</td>\n",
       "      <td>...</td>\n",
       "    </tr>\n",
       "    <tr>\n",
       "      <th>599995</th>\n",
       "      <td>599996</td>\n",
       "      <td>Teófilo Llamas</td>\n",
       "      <td>Argentina</td>\n",
       "      <td>2005</td>\n",
       "      <td>RM</td>\n",
       "      <td>1.57</td>\n",
       "      <td>77.12</td>\n",
       "      <td>Left</td>\n",
       "      <td>None</td>\n",
       "    </tr>\n",
       "    <tr>\n",
       "      <th>599996</th>\n",
       "      <td>599997</td>\n",
       "      <td>Héctor Ibanez</td>\n",
       "      <td>Mexico</td>\n",
       "      <td>1997</td>\n",
       "      <td>SS</td>\n",
       "      <td>1.69</td>\n",
       "      <td>68.96</td>\n",
       "      <td>Left</td>\n",
       "      <td>None</td>\n",
       "    </tr>\n",
       "    <tr>\n",
       "      <th>599997</th>\n",
       "      <td>599998</td>\n",
       "      <td>Didiér Maduro</td>\n",
       "      <td>Uruguay</td>\n",
       "      <td>1999</td>\n",
       "      <td>SS</td>\n",
       "      <td>1.69</td>\n",
       "      <td>77.21</td>\n",
       "      <td>Right</td>\n",
       "      <td>None</td>\n",
       "    </tr>\n",
       "    <tr>\n",
       "      <th>599998</th>\n",
       "      <td>599999</td>\n",
       "      <td>Aldo Colin</td>\n",
       "      <td>Argentina</td>\n",
       "      <td>1990</td>\n",
       "      <td>CM</td>\n",
       "      <td>1.89</td>\n",
       "      <td>77.23</td>\n",
       "      <td>Left</td>\n",
       "      <td>None</td>\n",
       "    </tr>\n",
       "    <tr>\n",
       "      <th>599999</th>\n",
       "      <td>600000</td>\n",
       "      <td>Omar Carrillo</td>\n",
       "      <td>Uruguay</td>\n",
       "      <td>1994</td>\n",
       "      <td>AM</td>\n",
       "      <td>1.75</td>\n",
       "      <td>67.21</td>\n",
       "      <td>Right</td>\n",
       "      <td>None</td>\n",
       "    </tr>\n",
       "  </tbody>\n",
       "</table>\n",
       "<p>600000 rows × 9 columns</p>\n",
       "</div>"
      ],
      "text/plain": [
       "        player_id            name    country  birth year position  height  \\\n",
       "0               1       Juca Dias     Brazil        1990       GK    1.93   \n",
       "1               2  Leonardo Grilo     Brazil        1990       RB    1.92   \n",
       "2               3   Nataniel Rios     Brazil        2004       GK    1.96   \n",
       "3               4  Darley Bartolo     Brazil        1991       SS    1.83   \n",
       "4               5   Lorenzo Grilo     Brazil        1991       WG    1.90   \n",
       "...           ...             ...        ...         ...      ...     ...   \n",
       "599995     599996  Teófilo Llamas  Argentina        2005       RM    1.57   \n",
       "599996     599997   Héctor Ibanez     Mexico        1997       SS    1.69   \n",
       "599997     599998   Didiér Maduro    Uruguay        1999       SS    1.69   \n",
       "599998     599999      Aldo Colin  Argentina        1990       CM    1.89   \n",
       "599999     600000   Omar Carrillo    Uruguay        1994       AM    1.75   \n",
       "\n",
       "        weight   foot retired  \n",
       "0        74.88   Left    None  \n",
       "1        82.43   Left    None  \n",
       "2        76.38  Right    None  \n",
       "3        80.29  Right    None  \n",
       "4        79.77  Right    None  \n",
       "...        ...    ...     ...  \n",
       "599995   77.12   Left    None  \n",
       "599996   68.96   Left    None  \n",
       "599997   77.21  Right    None  \n",
       "599998   77.23   Left    None  \n",
       "599999   67.21  Right    None  \n",
       "\n",
       "[600000 rows x 9 columns]"
      ]
     },
     "execution_count": 11,
     "metadata": {},
     "output_type": "execute_result"
    }
   ],
   "source": [
    "df"
   ]
  },
  {
   "cell_type": "code",
   "execution_count": 12,
   "id": "80e88d8b-86b5-4ac3-b885-b54267ef8d4b",
   "metadata": {},
   "outputs": [
    {
     "data": {
      "text/plain": [
       "0            Brazil\n",
       "1            Brazil\n",
       "2            Brazil\n",
       "3            Brazil\n",
       "4            Brazil\n",
       "            ...    \n",
       "599995    Argentina\n",
       "599996       Mexico\n",
       "599997      Uruguay\n",
       "599998    Argentina\n",
       "599999      Uruguay\n",
       "Name: country, Length: 600000, dtype: object"
      ]
     },
     "execution_count": 12,
     "metadata": {},
     "output_type": "execute_result"
    }
   ],
   "source": [
    "df['country']"
   ]
  },
  {
   "cell_type": "code",
   "execution_count": 13,
   "id": "b2496643-7759-4553-9be0-baa1da5d6104",
   "metadata": {},
   "outputs": [
    {
     "data": {
      "text/plain": [
       "array(['Brazil', 'Germany', 'England', 'Walles', 'United States',\n",
       "       'Colombia', 'Mexico', 'Chile', 'Uruguay', 'Spain', 'Paraguay',\n",
       "       'Argentina'], dtype=object)"
      ]
     },
     "execution_count": 13,
     "metadata": {},
     "output_type": "execute_result"
    }
   ],
   "source": [
    "df['country'].unique()"
   ]
  },
  {
   "cell_type": "code",
   "execution_count": 15,
   "id": "ad30b903-6465-499b-9873-ca42e9d49ef9",
   "metadata": {},
   "outputs": [
    {
     "data": {
      "text/plain": [
       "country\n",
       "Brazil           200000\n",
       "Germany           50308\n",
       "United States     49919\n",
       "England           49892\n",
       "Walles            49881\n",
       "Argentina         28894\n",
       "Mexico            28689\n",
       "Paraguay          28641\n",
       "Uruguay           28603\n",
       "Chile             28481\n",
       "Spain             28425\n",
       "Colombia          28267\n",
       "Name: count, dtype: int64"
      ]
     },
     "execution_count": 15,
     "metadata": {},
     "output_type": "execute_result"
    }
   ],
   "source": [
    "df['country'].value_counts()"
   ]
  },
  {
   "cell_type": "code",
   "execution_count": 19,
   "id": "f3e7bae4-3021-4bdd-ab85-bcae654dd962",
   "metadata": {},
   "outputs": [
    {
     "data": {
      "text/plain": [
       "birth year\n",
       "1996    33653\n",
       "1995    33503\n",
       "1992    33490\n",
       "1993    33467\n",
       "2002    33465\n",
       "1997    33462\n",
       "2000    33427\n",
       "1991    33408\n",
       "1994    33356\n",
       "1990    33336\n",
       "2003    33296\n",
       "1999    33269\n",
       "2005    33265\n",
       "1989    33179\n",
       "2004    33177\n",
       "2006    33124\n",
       "2001    33098\n",
       "1998    33025\n",
       "Name: count, dtype: int64"
      ]
     },
     "execution_count": 19,
     "metadata": {},
     "output_type": "execute_result"
    }
   ],
   "source": [
    "df['birth year'].value_counts()"
   ]
  },
  {
   "cell_type": "code",
   "execution_count": 20,
   "id": "bd165362-eee7-424c-bce1-907eb89aacaa",
   "metadata": {},
   "outputs": [
    {
     "data": {
      "text/plain": [
       "foot\n",
       "Left     300034\n",
       "Right    299966\n",
       "Name: count, dtype: int64"
      ]
     },
     "execution_count": 20,
     "metadata": {},
     "output_type": "execute_result"
    }
   ],
   "source": [
    "df['foot'].value_counts()"
   ]
  },
  {
   "cell_type": "code",
   "execution_count": 21,
   "id": "b1ebb436-957a-4e99-a8ed-d781c64a58e1",
   "metadata": {},
   "outputs": [
    {
     "data": {
      "text/plain": [
       "position\n",
       "CM    50415\n",
       "GK    50339\n",
       "CF    50286\n",
       "LB    50058\n",
       "AM    50007\n",
       "DM    50003\n",
       "RM    49969\n",
       "LM    49948\n",
       "CB    49896\n",
       "SS    49889\n",
       "RB    49661\n",
       "WG    49529\n",
       "Name: count, dtype: int64"
      ]
     },
     "execution_count": 21,
     "metadata": {},
     "output_type": "execute_result"
    }
   ],
   "source": [
    "df['position'].value_counts()"
   ]
  },
  {
   "cell_type": "code",
   "execution_count": null,
   "id": "5f481ba3-de32-46fd-92b6-96c384e611b7",
   "metadata": {},
   "outputs": [],
   "source": []
  }
 ],
 "metadata": {
  "kernelspec": {
   "display_name": "Python 3 (ipykernel)",
   "language": "python",
   "name": "python3"
  },
  "language_info": {
   "codemirror_mode": {
    "name": "ipython",
    "version": 3
   },
   "file_extension": ".py",
   "mimetype": "text/x-python",
   "name": "python",
   "nbconvert_exporter": "python",
   "pygments_lexer": "ipython3",
   "version": "3.10.12"
  }
 },
 "nbformat": 4,
 "nbformat_minor": 5
}
