{
 "cells": [
  {
   "cell_type": "code",
   "execution_count": 4,
   "id": "c4cd3e87-987a-4e4c-8b43-30e82535803c",
   "metadata": {},
   "outputs": [],
   "source": [
    "import mysql.connector"
   ]
  },
  {
   "cell_type": "code",
   "execution_count": 5,
   "id": "db1ac454-319a-415b-a1d4-2ebc5cc563a1",
   "metadata": {},
   "outputs": [],
   "source": [
    "import pandas as pd"
   ]
  },
  {
   "cell_type": "code",
   "execution_count": 6,
   "id": "4910bf0e-8a10-450a-859f-0446abd9c2bf",
   "metadata": {},
   "outputs": [],
   "source": [
    "database_config = {\n",
    "    'user': 'tournament_user',\n",
    "    'password': 'tournament_pass',\n",
    "    'host': 'localhost',\n",
    "    'database': 'football'\n",
    "}"
   ]
  },
  {
   "cell_type": "code",
   "execution_count": 7,
   "id": "d3c7fd70-7afe-46a8-ae57-9f1620b176c3",
   "metadata": {},
   "outputs": [],
   "source": [
    "select_clubs = \"\"\"\n",
    "SELECT clubs.name, clubs.country, clubs.class, \n",
    "international_confederations.name, international_confederations.continent,\n",
    "national_confederations.name\n",
    "FROM clubs\n",
    "INNER JOIN international_confederations\n",
    "INNER JOIN national_confederations\n",
    "    ON international_confederations.id = clubs.id_international_confederation\n",
    "    AND national_confederations.id = clubs.id_national_confederation;\n",
    "\"\"\""
   ]
  },
  {
   "cell_type": "code",
   "execution_count": 13,
   "id": "5f198b3b-7a75-4478-9eb6-15f3dd550bdf",
   "metadata": {},
   "outputs": [],
   "source": [
    "conn = mysql.connector.connect(**database_config)\n",
    "cursor = conn.cursor()"
   ]
  },
  {
   "cell_type": "code",
   "execution_count": 14,
   "id": "98d12c71-8584-4f8c-8279-e4b318e79b5b",
   "metadata": {},
   "outputs": [],
   "source": [
    "cursor.execute(select_clubs)\n",
    "clubs = cursor.fetchall()"
   ]
  },
  {
   "cell_type": "code",
   "execution_count": 15,
   "id": "a67b610b-a143-4254-b16a-6c1cc3d10630",
   "metadata": {},
   "outputs": [],
   "source": [
    "columns = ['club name','country','class','international confederation','continent','national confederation']"
   ]
  },
  {
   "cell_type": "code",
   "execution_count": 16,
   "id": "60e46524-102e-4ae7-9642-8d0fd964de77",
   "metadata": {},
   "outputs": [],
   "source": [
    "df = pd.DataFrame(clubs, columns=columns, index=None)"
   ]
  },
  {
   "cell_type": "code",
   "execution_count": 17,
   "id": "772917ee-3cc8-4946-9c81-16ca69f44fa9",
   "metadata": {},
   "outputs": [
    {
     "data": {
      "text/html": [
       "<div>\n",
       "<style scoped>\n",
       "    .dataframe tbody tr th:only-of-type {\n",
       "        vertical-align: middle;\n",
       "    }\n",
       "\n",
       "    .dataframe tbody tr th {\n",
       "        vertical-align: top;\n",
       "    }\n",
       "\n",
       "    .dataframe thead th {\n",
       "        text-align: right;\n",
       "    }\n",
       "</style>\n",
       "<table border=\"1\" class=\"dataframe\">\n",
       "  <thead>\n",
       "    <tr style=\"text-align: right;\">\n",
       "      <th></th>\n",
       "      <th>club name</th>\n",
       "      <th>country</th>\n",
       "      <th>class</th>\n",
       "      <th>international confederation</th>\n",
       "      <th>continent</th>\n",
       "      <th>national confederation</th>\n",
       "    </tr>\n",
       "  </thead>\n",
       "  <tbody>\n",
       "    <tr>\n",
       "      <th>0</th>\n",
       "      <td>Argentinos Juniors</td>\n",
       "      <td>Argentina</td>\n",
       "      <td>F</td>\n",
       "      <td>CONMEBOL</td>\n",
       "      <td>South America</td>\n",
       "      <td>AFA</td>\n",
       "    </tr>\n",
       "    <tr>\n",
       "      <th>1</th>\n",
       "      <td>Arsenal</td>\n",
       "      <td>Argentina</td>\n",
       "      <td>C</td>\n",
       "      <td>CONMEBOL</td>\n",
       "      <td>South America</td>\n",
       "      <td>AFA</td>\n",
       "    </tr>\n",
       "    <tr>\n",
       "      <th>2</th>\n",
       "      <td>Atlético Tucumán</td>\n",
       "      <td>Argentina</td>\n",
       "      <td>D</td>\n",
       "      <td>CONMEBOL</td>\n",
       "      <td>South America</td>\n",
       "      <td>AFA</td>\n",
       "    </tr>\n",
       "    <tr>\n",
       "      <th>3</th>\n",
       "      <td>Banfield</td>\n",
       "      <td>Argentina</td>\n",
       "      <td>C</td>\n",
       "      <td>CONMEBOL</td>\n",
       "      <td>South America</td>\n",
       "      <td>AFA</td>\n",
       "    </tr>\n",
       "    <tr>\n",
       "      <th>4</th>\n",
       "      <td>Barracas Central</td>\n",
       "      <td>Argentina</td>\n",
       "      <td>E</td>\n",
       "      <td>CONMEBOL</td>\n",
       "      <td>South America</td>\n",
       "      <td>AFA</td>\n",
       "    </tr>\n",
       "    <tr>\n",
       "      <th>...</th>\n",
       "      <td>...</td>\n",
       "      <td>...</td>\n",
       "      <td>...</td>\n",
       "      <td>...</td>\n",
       "      <td>...</td>\n",
       "      <td>...</td>\n",
       "    </tr>\n",
       "    <tr>\n",
       "      <th>112</th>\n",
       "      <td>Libertad</td>\n",
       "      <td>Ecuador</td>\n",
       "      <td>E</td>\n",
       "      <td>CONMEBOL</td>\n",
       "      <td>South America</td>\n",
       "      <td>FEF</td>\n",
       "    </tr>\n",
       "    <tr>\n",
       "      <th>113</th>\n",
       "      <td>Mushuc Runa</td>\n",
       "      <td>Ecuador</td>\n",
       "      <td>B</td>\n",
       "      <td>CONMEBOL</td>\n",
       "      <td>South America</td>\n",
       "      <td>FEF</td>\n",
       "    </tr>\n",
       "    <tr>\n",
       "      <th>114</th>\n",
       "      <td>Orense</td>\n",
       "      <td>Ecuador</td>\n",
       "      <td>F</td>\n",
       "      <td>CONMEBOL</td>\n",
       "      <td>South America</td>\n",
       "      <td>FEF</td>\n",
       "    </tr>\n",
       "    <tr>\n",
       "      <th>115</th>\n",
       "      <td>Técnico Universitario</td>\n",
       "      <td>Ecuador</td>\n",
       "      <td>A</td>\n",
       "      <td>CONMEBOL</td>\n",
       "      <td>South America</td>\n",
       "      <td>FEF</td>\n",
       "    </tr>\n",
       "    <tr>\n",
       "      <th>116</th>\n",
       "      <td>Universidad Católica</td>\n",
       "      <td>Ecuador</td>\n",
       "      <td>B</td>\n",
       "      <td>CONMEBOL</td>\n",
       "      <td>South America</td>\n",
       "      <td>FEF</td>\n",
       "    </tr>\n",
       "  </tbody>\n",
       "</table>\n",
       "<p>117 rows × 6 columns</p>\n",
       "</div>"
      ],
      "text/plain": [
       "                 club name    country class international confederation  \\\n",
       "0       Argentinos Juniors  Argentina     F                    CONMEBOL   \n",
       "1                  Arsenal  Argentina     C                    CONMEBOL   \n",
       "2         Atlético Tucumán  Argentina     D                    CONMEBOL   \n",
       "3                 Banfield  Argentina     C                    CONMEBOL   \n",
       "4         Barracas Central  Argentina     E                    CONMEBOL   \n",
       "..                     ...        ...   ...                         ...   \n",
       "112               Libertad    Ecuador     E                    CONMEBOL   \n",
       "113            Mushuc Runa    Ecuador     B                    CONMEBOL   \n",
       "114                 Orense    Ecuador     F                    CONMEBOL   \n",
       "115  Técnico Universitario    Ecuador     A                    CONMEBOL   \n",
       "116   Universidad Católica    Ecuador     B                    CONMEBOL   \n",
       "\n",
       "         continent national confederation  \n",
       "0    South America                    AFA  \n",
       "1    South America                    AFA  \n",
       "2    South America                    AFA  \n",
       "3    South America                    AFA  \n",
       "4    South America                    AFA  \n",
       "..             ...                    ...  \n",
       "112  South America                    FEF  \n",
       "113  South America                    FEF  \n",
       "114  South America                    FEF  \n",
       "115  South America                    FEF  \n",
       "116  South America                    FEF  \n",
       "\n",
       "[117 rows x 6 columns]"
      ]
     },
     "execution_count": 17,
     "metadata": {},
     "output_type": "execute_result"
    }
   ],
   "source": [
    "df"
   ]
  },
  {
   "cell_type": "code",
   "execution_count": 21,
   "id": "8a69882e-bd60-4ebd-bd10-d8c0c8ecc9c6",
   "metadata": {},
   "outputs": [
    {
     "data": {
      "text/plain": [
       "array(['Brazil', 'Argentina'], dtype=object)"
      ]
     },
     "execution_count": 21,
     "metadata": {},
     "output_type": "execute_result"
    }
   ],
   "source": [
    "df['country'].unique()"
   ]
  },
  {
   "cell_type": "code",
   "execution_count": 18,
   "id": "1a7cc579-895b-4c28-82d3-d8b81d82a3e5",
   "metadata": {},
   "outputs": [
    {
     "data": {
      "text/plain": [
       "0      AFA\n",
       "1      AFA\n",
       "2      AFA\n",
       "3      AFA\n",
       "4      AFA\n",
       "      ... \n",
       "112    FEF\n",
       "113    FEF\n",
       "114    FEF\n",
       "115    FEF\n",
       "116    FEF\n",
       "Name: national confederation, Length: 117, dtype: object"
      ]
     },
     "execution_count": 18,
     "metadata": {},
     "output_type": "execute_result"
    }
   ],
   "source": [
    "df['national confederation']"
   ]
  },
  {
   "cell_type": "code",
   "execution_count": 20,
   "id": "a46a59c6-e6c0-434b-84f9-746bf44b9c56",
   "metadata": {},
   "outputs": [
    {
     "data": {
      "text/plain": [
       "national confederation\n",
       "AFA    28\n",
       "CBF    20\n",
       "FCF    20\n",
       "FBF    17\n",
       "FFC    16\n",
       "FEF    16\n",
       "Name: count, dtype: int64"
      ]
     },
     "execution_count": 20,
     "metadata": {},
     "output_type": "execute_result"
    }
   ],
   "source": [
    "df['national confederation'].value_counts()"
   ]
  },
  {
   "cell_type": "code",
   "execution_count": null,
   "id": "4a9dda96-545b-4239-b7c4-8b78980cae98",
   "metadata": {},
   "outputs": [],
   "source": []
  }
 ],
 "metadata": {
  "kernelspec": {
   "display_name": "Python 3 (ipykernel)",
   "language": "python",
   "name": "python3"
  },
  "language_info": {
   "codemirror_mode": {
    "name": "ipython",
    "version": 3
   },
   "file_extension": ".py",
   "mimetype": "text/x-python",
   "name": "python",
   "nbconvert_exporter": "python",
   "pygments_lexer": "ipython3",
   "version": "3.10.12"
  }
 },
 "nbformat": 4,
 "nbformat_minor": 5
}
